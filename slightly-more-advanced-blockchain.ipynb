{
 "cells": [
  {
   "cell_type": "markdown",
   "metadata": {
    "_cell_guid": "2c4f60c5-352d-49e6-9c7a-08e4fe266471",
    "_uuid": "d9f4d8d05cd7a6783ac9c51cf83ebae78a20639e"
   },
   "source": [
    "# Overview\n",
    "Here we explore making a multi-node blockchain on one machine using multiple threads. The different threads each manage their own blockchain and the kernel shows how they are kept in sync and how tasks like mining a bitcoin work. The code is copied and slightly modified from the [story](https://hackernoon.com/learn-blockchains-by-building-one-117428612f46) and [repository](https://github.com/dvf/blockchain) from Daniel van Flymen"
   ]
  },
  {
   "cell_type": "code",
   "execution_count": 1,
   "metadata": {
    "_cell_guid": "f42aa27f-1bd5-4b39-ba6a-3e9d89cd2c93",
    "_uuid": "7b152efa66b73e29c7fa9649bd4cb51a5abbde88",
    "collapsed": true
   },
   "outputs": [],
   "source": [
    "import hashlib\n",
    "import json\n",
    "from time import time\n",
    "from urllib.parse import urlparse\n",
    "from uuid import uuid4\n",
    "\n",
    "import requests\n",
    "from flask import Flask, jsonify, request"
   ]
  },
  {
   "cell_type": "code",
   "execution_count": 2,
   "metadata": {
    "_cell_guid": "f1e081b1-3fb7-4b84-b84a-cb6cddd0e0d7",
    "_uuid": "fb42263bb3950291cde4edcb0864f0b949b52928",
    "collapsed": true
   },
   "outputs": [],
   "source": [
    "class Blockchain(object):\n",
    "    def __init__(self):\n",
    "        self.current_transactions = []\n",
    "        self.chain = []\n",
    "        self.nodes = set()\n",
    "\n",
    "        # Create the genesis block\n",
    "        self.new_block(previous_hash=1, proof=100)\n",
    "\n",
    "    def register_node(self, address):\n",
    "        \"\"\"\n",
    "        Add a new node to the list of nodes\n",
    "\n",
    "        :param address: <str> Address of node. Eg. 'http://192.168.0.5:5000'\n",
    "        :return: None\n",
    "        \"\"\"\n",
    "\n",
    "        parsed_url = urlparse(address)\n",
    "        self.nodes.add(parsed_url.netloc)\n",
    "\n",
    "    def valid_chain(self, chain):\n",
    "        \"\"\"\n",
    "        Determine if a given blockchain is valid\n",
    "\n",
    "        :param chain: <list> A blockchain\n",
    "        :return: <bool> True if valid, False if not\n",
    "        \"\"\"\n",
    "\n",
    "        last_block = chain[0]\n",
    "        current_index = 1\n",
    "\n",
    "        while current_index < len(chain):\n",
    "            block = chain[current_index]\n",
    "            print(f'{last_block}')\n",
    "            print(f'{block}')\n",
    "            print(\"\\n-----------\\n\")\n",
    "            # Check that the hash of the block is correct\n",
    "            if block['previous_hash'] != self.hash(last_block):\n",
    "                return False\n",
    "\n",
    "            # Check that the Proof of Work is correct\n",
    "            if not self.valid_proof(last_block['proof'], block['proof']):\n",
    "                return False\n",
    "\n",
    "            last_block = block\n",
    "            current_index += 1\n",
    "\n",
    "        return True\n",
    "\n",
    "    def resolve_conflicts(self):\n",
    "        \"\"\"\n",
    "        This is our consensus algorithm, it resolves conflicts\n",
    "        by replacing our chain with the longest one in the network.\n",
    "\n",
    "        :return: <bool> True if our chain was replaced, False if not\n",
    "        \"\"\"\n",
    "\n",
    "        neighbours = self.nodes\n",
    "        new_chain = None\n",
    "\n",
    "        # We're only looking for chains longer than ours\n",
    "        max_length = len(self.chain)\n",
    "\n",
    "        # Grab and verify the chains from all the nodes in our network\n",
    "        for node in neighbours:\n",
    "            response = requests.get(f'http://{node}/chain')\n",
    "\n",
    "            if response.status_code == 200:\n",
    "                length = response.json()['length']\n",
    "                chain = response.json()['chain']\n",
    "\n",
    "                # Check if the length is longer and the chain is valid\n",
    "                if length > max_length and self.valid_chain(chain):\n",
    "                    max_length = length\n",
    "                    new_chain = chain\n",
    "\n",
    "        # Replace our chain if we discovered a new, valid chain longer than ours\n",
    "        if new_chain:\n",
    "            self.chain = new_chain\n",
    "            return True\n",
    "\n",
    "        return False\n",
    "\n",
    "    def new_block(self, proof, previous_hash=None):\n",
    "        \"\"\"\n",
    "        Create a new Block in the Blockchain\n",
    "\n",
    "        :param proof: <int> The proof given by the Proof of Work algorithm\n",
    "        :param previous_hash: (Optional) <str> Hash of previous Block\n",
    "        :return: <dict> New Block\n",
    "        \"\"\"\n",
    "\n",
    "        block = {\n",
    "            'index': len(self.chain) + 1,\n",
    "            'timestamp': time(),\n",
    "            'transactions': self.current_transactions,\n",
    "            'proof': proof,\n",
    "            'previous_hash': previous_hash or self.hash(self.chain[-1]),\n",
    "        }\n",
    "\n",
    "        # Reset the current list of transactions\n",
    "        self.current_transactions = []\n",
    "\n",
    "        self.chain.append(block)\n",
    "        return block\n",
    "\n",
    "    def new_transaction(self, sender, recipient, amount):\n",
    "        \"\"\"\n",
    "        Creates a new transaction to go into the next mined Block\n",
    "\n",
    "        :param sender: <str> Address of the Sender\n",
    "        :param recipient: <str> Address of the Recipient\n",
    "        :param amount: <int> Amount\n",
    "        :return: <int> The index of the Block that will hold this transaction\n",
    "        \"\"\"\n",
    "        self.current_transactions.append({\n",
    "            'sender': sender,\n",
    "            'recipient': recipient,\n",
    "            'amount': amount,\n",
    "        })\n",
    "\n",
    "        return self.last_block['index'] + 1\n",
    "\n",
    "    @property\n",
    "    def last_block(self):\n",
    "        return self.chain[-1]\n",
    "\n",
    "    @staticmethod\n",
    "    def hash(block):\n",
    "        \"\"\"\n",
    "        Creates a SHA-256 hash of a Block\n",
    "\n",
    "        :param block: <dict> Block\n",
    "        :return: <str>\n",
    "        \"\"\"\n",
    "\n",
    "        # We must make sure that the Dictionary is Ordered, or we'll have inconsistent hashes\n",
    "        block_string = json.dumps(block, sort_keys=True).encode()\n",
    "        return hashlib.sha256(block_string).hexdigest()\n",
    "\n",
    "    def proof_of_work(self, last_proof):\n",
    "        \"\"\"\n",
    "        Simple Proof of Work Algorithm:\n",
    "         - Find a number p' such that hash(pp') contains leading 4 zeroes, where p is the previous p'\n",
    "         - p is the previous proof, and p' is the new proof\n",
    "\n",
    "        :param last_proof: <int>\n",
    "        :return: <int>\n",
    "        \"\"\"\n",
    "\n",
    "        proof = 0\n",
    "        while self.valid_proof(last_proof, proof) is False:\n",
    "            proof += 1\n",
    "\n",
    "        return proof\n",
    "\n",
    "    @staticmethod\n",
    "    def valid_proof(last_proof, proof):\n",
    "        \"\"\"\n",
    "        Validates the Proof\n",
    "\n",
    "        :param last_proof: <int> Previous Proof\n",
    "        :param proof: <int> Current Proof\n",
    "        :return: <bool> True if correct, False if not.\n",
    "        \"\"\"\n",
    "\n",
    "        guess = f'{last_proof}{proof}'.encode()\n",
    "        guess_hash = hashlib.sha256(guess).hexdigest()\n",
    "        return guess_hash[:4] == \"0000\""
   ]
  },
  {
   "cell_type": "markdown",
   "metadata": {
    "_cell_guid": "a3f9f8b4-277e-4751-91f3-ae696f58cb45",
    "_uuid": "3b3cd1be70edda6d37aae1e492522392418f9d10"
   },
   "source": [
    "# Encapsulate Server Logic\n",
    "Here we package the blockchain server in a function to we can make multiple instances of it easily"
   ]
  },
  {
   "cell_type": "code",
   "execution_count": 3,
   "metadata": {
    "_cell_guid": "333f7290-ebff-4cc8-acec-3bb52e426098",
    "_uuid": "86c1c3c55d708c79eedf1fd9f6db9b08640e73de",
    "collapsed": true
   },
   "outputs": [],
   "source": [
    "def create_blockchain_process(in_port):\n",
    "    # Generate a globally unique address for this node\n",
    "    node_identifier = '%s%04d' % (str(uuid4()).replace('-', ''), in_port)\n",
    "    # Instantiate the Node\n",
    "    app = Flask(node_identifier)\n",
    "    # Instantiate the Blockchain\n",
    "    blockchain = Blockchain()\n",
    "    @app.route('/mine', methods=['GET'])\n",
    "    def mine():\n",
    "        # We run the proof of work algorithm to get the next proof...\n",
    "        last_block = blockchain.last_block\n",
    "        last_proof = last_block['proof']\n",
    "        proof = blockchain.proof_of_work(last_proof)\n",
    "\n",
    "        # We must receive a reward for finding the proof.\n",
    "        # The sender is \"0\" to signify that this node has mined a new coin.\n",
    "        blockchain.new_transaction(\n",
    "            sender=\"0\",\n",
    "            recipient=node_identifier,\n",
    "            amount=1,\n",
    "        )\n",
    "\n",
    "        # Forge the new Block by adding it to the chain\n",
    "        block = blockchain.new_block(proof)\n",
    "\n",
    "        response = {\n",
    "            'message': \"New Block Forged\",\n",
    "            'index': block['index'],\n",
    "            'transactions': block['transactions'],\n",
    "            'proof': block['proof'],\n",
    "            'previous_hash': block['previous_hash'],\n",
    "        }\n",
    "        return jsonify(response), 200\n",
    "\n",
    "\n",
    "    @app.route('/transactions/new', methods=['POST'])\n",
    "    def new_transaction():\n",
    "        values = request.get_json()\n",
    "\n",
    "        # Check that the required fields are in the POST'ed data\n",
    "        required = ['sender', 'recipient', 'amount']\n",
    "        if not all(k in values for k in required):\n",
    "            return 'Missing values', 400\n",
    "\n",
    "        # Create a new Transaction\n",
    "        index = blockchain.new_transaction(values['sender'], values['recipient'], values['amount'])\n",
    "\n",
    "        response = {'message': f'Transaction will be added to Block {index}'}\n",
    "        return jsonify(response), 201\n",
    "\n",
    "\n",
    "    @app.route('/chain', methods=['GET'])\n",
    "    def full_chain():\n",
    "        response = {\n",
    "            'chain': blockchain.chain,\n",
    "            'length': len(blockchain.chain),\n",
    "        }\n",
    "        return jsonify(response), 200\n",
    "\n",
    "\n",
    "    @app.route('/nodes/register', methods=['POST'])\n",
    "    def register_nodes():\n",
    "        values = request.get_json()\n",
    "\n",
    "        nodes = values.get('nodes')\n",
    "        if nodes is None:\n",
    "            return \"Error: Please supply a valid list of nodes\", 400\n",
    "\n",
    "        for node in nodes:\n",
    "            blockchain.register_node(node)\n",
    "\n",
    "        response = {\n",
    "            'message': 'New nodes have been added',\n",
    "            'total_nodes': list(blockchain.nodes),\n",
    "        }\n",
    "        return jsonify(response), 201\n",
    "\n",
    "\n",
    "    @app.route('/nodes/resolve', methods=['GET'])\n",
    "    def consensus():\n",
    "        replaced = blockchain.resolve_conflicts()\n",
    "\n",
    "        if replaced:\n",
    "            response = {\n",
    "                'message': 'Our chain was replaced',\n",
    "                'new_chain': blockchain.chain\n",
    "            }\n",
    "        else:\n",
    "            response = {\n",
    "                'message': 'Our chain is authoritative',\n",
    "                'chain': blockchain.chain\n",
    "            }\n",
    "\n",
    "        return jsonify(response), 200\n",
    "    app.run(host='0.0.0.0', port=in_port)\n",
    "    os._exit(0)"
   ]
  },
  {
   "cell_type": "markdown",
   "metadata": {
    "_cell_guid": "893d3b89-4bef-4c8c-9332-a8ec1066ba1d",
    "_uuid": "a4a5cfb25fc558af276c3e6e78198640872f570c"
   },
   "source": [
    "# Start a number of subprocesses\n",
    "We use the fork command (only supported on linux and mac) to run multiple instances"
   ]
  },
  {
   "cell_type": "code",
   "execution_count": 4,
   "metadata": {
    "_cell_guid": "324e7749-710a-4b8d-a479-304004afe92a",
    "_uuid": "f6650128518838ec0ce35e51e60eaa53b3663fd0"
   },
   "outputs": [
    {
     "name": "stderr",
     "output_type": "stream",
     "text": [
      " * Running on http://0.0.0.0:5001/ (Press CTRL+C to quit)\n",
      " * Running on http://0.0.0.0:5000/ (Press CTRL+C to quit)\n",
      " * Running on http://0.0.0.0:5002/ (Press CTRL+C to quit)\n"
     ]
    }
   ],
   "source": [
    "import os\n",
    "from time import sleep\n",
    "out_pids = []\n",
    "for i in range(5000, 5003):\n",
    "    cpid = os.fork()\n",
    "    if not cpid:\n",
    "        create_blockchain_process(i)\n",
    "    else:\n",
    "        out_pids += [cpid]\n",
    "sleep(2) # make sure everything is started"
   ]
  },
  {
   "cell_type": "markdown",
   "metadata": {
    "_cell_guid": "005f76ed-7a35-42ad-9189-4fef6270709b",
    "_uuid": "4926f815d445591dbc7037edfbebd5bddac47fd0"
   },
   "source": [
    "# Testing\n",
    "Now that we have a few nodes running we can try out a few standard operations using curl (we could also use python, but curl is easier for now). The operations we have defined are _mine_, _chain_, _transaction/new_ and the commands to handle new nodes. We run through a couple of common transactions to show how the nodes work and the results can be viewed"
   ]
  },
  {
   "cell_type": "markdown",
   "metadata": {
    "_cell_guid": "a4b5140c-7a67-40f4-bc75-40a2e58ddc8e",
    "_uuid": "f9c59dd0c50a031da70e80899bd45fa92e70872c"
   },
   "source": [
    "## Mining\n",
    "We start off with a very basic mining command"
   ]
  },
  {
   "cell_type": "markdown",
   "metadata": {
    "_cell_guid": "8e8efa08-72aa-4d97-924c-971aa6cd881d",
    "_uuid": "5afc97e3b1713fa9ffa733a4f3ddc3a7788dfabc"
   },
   "source": [
    "# Register the other Nodes"
   ]
  },
  {
   "cell_type": "code",
   "execution_count": 5,
   "metadata": {
    "_cell_guid": "ef64fe8a-dbde-410f-80bf-2ff3ee553372",
    "_uuid": "f1a1dac810a96eeb743bc340c6f08704af48c388"
   },
   "outputs": [
    {
     "name": "stdout",
     "output_type": "stream",
     "text": [
      "{\r\n",
      "  \"message\": \"New nodes have been added\", \r\n",
      "  \"total_nodes\": [\r\n",
      "    \"localhost:5001\", \r\n",
      "    \"localhost:5002\"\r\n",
      "  ]\r\n",
      "}\r\n",
      "{\r\n",
      "  \"message\": \"New nodes have been added\", \r\n",
      "  \"total_nodes\": [\r\n",
      "    \"localhost:5000\", \r\n",
      "    \"localhost:5002\"\r\n",
      "  ]\r\n",
      "}\r\n",
      "{\r\n",
      "  \"message\": \"New nodes have been added\", \r\n",
      "  \"total_nodes\": [\r\n",
      "    \"localhost:5001\", \r\n",
      "    \"localhost:5000\"\r\n",
      "  ]\r\n",
      "}\r\n"
     ]
    }
   ],
   "source": [
    "!curl -X POST -H \"Content-Type: application/json\" -d '{\"nodes\": [\"http://localhost:5001\", \"http://localhost:5002\"]}' \"http://localhost:5000/nodes/register\"\n",
    "!curl -X POST -H \"Content-Type: application/json\" -d '{\"nodes\": [\"http://localhost:5000\", \"http://localhost:5002\"]}' \"http://localhost:5001/nodes/register\"\n",
    "!curl -X POST -H \"Content-Type: application/json\" -d '{\"nodes\": [\"http://localhost:5000\", \"http://localhost:5001\"]}' \"http://localhost:5002/nodes/register\"\n"
   ]
  },
  {
   "cell_type": "markdown",
   "metadata": {
    "_cell_guid": "370a6b27-fb2f-4b32-9e49-eb8e0a7a1c8a",
    "_uuid": "92454f10ae366329a5af6bdda4810ccaa44c9e34"
   },
   "source": [
    "# Make a simple transaction"
   ]
  },
  {
   "cell_type": "code",
   "execution_count": 6,
   "metadata": {
    "_cell_guid": "6371ab01-e142-4a96-b9bf-ef5f1807a097",
    "_uuid": "3e8bffc45481dd37c9535039e12d16001070586f"
   },
   "outputs": [
    {
     "name": "stdout",
     "output_type": "stream",
     "text": [
      "{\r\n",
      "  \"message\": \"Transaction will be added to Block 2\"\r\n",
      "}\r\n"
     ]
    }
   ],
   "source": [
    "!curl -X POST -H \"Content-Type: application/json\" -d '{ \"sender\": \"d4ee26eee15148ee92c6cd394edd974e\",\"recipient\": \"someone-other-address\", \"amount\": 5}' \"http://localhost:5000/transactions/new\""
   ]
  },
  {
   "cell_type": "code",
   "execution_count": 7,
   "metadata": {
    "_cell_guid": "fd933d79-3065-423b-9e1b-ecbb134bc073",
    "_uuid": "0dfc89daa2f7e686fc8161e50579da67f3e3ab07"
   },
   "outputs": [
    {
     "name": "stdout",
     "output_type": "stream",
     "text": [
      "{\r\n",
      "  \"chain\": [\r\n",
      "    {\r\n",
      "      \"index\": 1, \r\n",
      "      \"previous_hash\": 1, \r\n",
      "      \"proof\": 100, \r\n",
      "      \"timestamp\": 1507824951.7695177, \r\n",
      "      \"transactions\": []\r\n",
      "    }\r\n",
      "  ], \r\n",
      "  \"length\": 1\r\n",
      "}\r\n"
     ]
    }
   ],
   "source": [
    "!curl http://localhost:5000/chain"
   ]
  },
  {
   "cell_type": "markdown",
   "metadata": {},
   "source": [
    "## Resolve the new transaction\n",
    "We run resolve on each node to update the transaction list"
   ]
  },
  {
   "cell_type": "code",
   "execution_count": 8,
   "metadata": {},
   "outputs": [
    {
     "name": "stdout",
     "output_type": "stream",
     "text": [
      "{\r\n",
      "  \"chain\": [\r\n",
      "    {\r\n",
      "      \"index\": 1, \r\n",
      "      \"previous_hash\": 1, \r\n",
      "      \"proof\": 100, \r\n",
      "      \"timestamp\": 1507824951.7695177, \r\n",
      "      \"transactions\": []\r\n",
      "    }\r\n",
      "  ], \r\n",
      "  \"message\": \"Our chain is authoritative\"\r\n",
      "}\r\n",
      "{\r\n",
      "  \"chain\": [\r\n",
      "    {\r\n",
      "      \"index\": 1, \r\n",
      "      \"previous_hash\": 1, \r\n",
      "      \"proof\": 100, \r\n",
      "      \"timestamp\": 1507824951.7689593, \r\n",
      "      \"transactions\": []\r\n",
      "    }\r\n",
      "  ], \r\n",
      "  \"message\": \"Our chain is authoritative\"\r\n",
      "}\r\n",
      "{\r\n",
      "  \"chain\": [\r\n",
      "    {\r\n",
      "      \"index\": 1, \r\n",
      "      \"previous_hash\": 1, \r\n",
      "      \"proof\": 100, \r\n",
      "      \"timestamp\": 1507824951.7821326, \r\n",
      "      \"transactions\": []\r\n",
      "    }\r\n",
      "  ], \r\n",
      "  \"message\": \"Our chain is authoritative\"\r\n",
      "}\r\n"
     ]
    }
   ],
   "source": [
    "!curl http://localhost:5000/nodes/resolve\n",
    "!curl http://localhost:5001/nodes/resolve\n",
    "!curl http://localhost:5002/nodes/resolve"
   ]
  },
  {
   "cell_type": "markdown",
   "metadata": {
    "_cell_guid": "91c186ff-f7fc-42f2-80ba-0b63a800e554",
    "_uuid": "e66d10a732c0acc5e886558b0a49a659b3d4327e"
   },
   "source": [
    "# Mine a bitcoin"
   ]
  },
  {
   "cell_type": "code",
   "execution_count": 9,
   "metadata": {
    "_cell_guid": "43b71b8b-c077-4c07-8745-e55f04fb6009",
    "_uuid": "b64567e3c6aa185f0291cdc3ee3f835222eadf85"
   },
   "outputs": [
    {
     "name": "stdout",
     "output_type": "stream",
     "text": [
      "{\r\n",
      "  \"index\": 2, \r\n",
      "  \"message\": \"New Block Forged\", \r\n",
      "  \"previous_hash\": \"47f8658295d76149bc7447466eda3e4c26a49d5b8309629da1cf89aedb0c42b0\", \r\n",
      "  \"proof\": 35293, \r\n",
      "  \"transactions\": [\r\n",
      "    {\r\n",
      "      \"amount\": 5, \r\n",
      "      \"recipient\": \"someone-other-address\", \r\n",
      "      \"sender\": \"d4ee26eee15148ee92c6cd394edd974e\"\r\n",
      "    }, \r\n",
      "    {\r\n",
      "      \"amount\": 1, \r\n",
      "      \"recipient\": \"11120ceb2131427f99dda3fc2623ae9b5000\", \r\n",
      "      \"sender\": \"0\"\r\n",
      "    }\r\n",
      "  ]\r\n",
      "}\r\n"
     ]
    }
   ],
   "source": [
    "!curl http://localhost:5000/mine"
   ]
  },
  {
   "cell_type": "code",
   "execution_count": 10,
   "metadata": {
    "_cell_guid": "208d6ad1-9a8d-4c83-bcb2-4a06cbbb0097",
    "_uuid": "e8f13533767f09066a957a462c928fce42089806",
    "scrolled": true
   },
   "outputs": [
    {
     "name": "stdout",
     "output_type": "stream",
     "text": [
      "{\r\n",
      "  \"chain\": [\r\n",
      "    {\r\n",
      "      \"index\": 1, \r\n",
      "      \"previous_hash\": 1, \r\n",
      "      \"proof\": 100, \r\n",
      "      \"timestamp\": 1507824951.7695177, \r\n",
      "      \"transactions\": []\r\n",
      "    }, \r\n",
      "    {\r\n",
      "      \"index\": 2, \r\n",
      "      \"previous_hash\": \"47f8658295d76149bc7447466eda3e4c26a49d5b8309629da1cf89aedb0c42b0\", \r\n",
      "      \"proof\": 35293, \r\n",
      "      \"timestamp\": 1507824956.6968665, \r\n",
      "      \"transactions\": [\r\n",
      "        {\r\n",
      "          \"amount\": 5, \r\n",
      "          \"recipient\": \"someone-other-address\", \r\n",
      "          \"sender\": \"d4ee26eee15148ee92c6cd394edd974e\"\r\n",
      "        }, \r\n",
      "        {\r\n",
      "          \"amount\": 1, \r\n",
      "          \"recipient\": \"11120ceb2131427f99dda3fc2623ae9b5000\", \r\n",
      "          \"sender\": \"0\"\r\n",
      "        }\r\n",
      "      ]\r\n",
      "    }\r\n",
      "  ], \r\n",
      "  \"length\": 2\r\n",
      "}\r\n"
     ]
    }
   ],
   "source": [
    "!curl http://localhost:5000/chain"
   ]
  },
  {
   "cell_type": "markdown",
   "metadata": {
    "_cell_guid": "b0195ef7-326d-44ff-a5cb-a26b0f508d69",
    "_uuid": "e11696cfb5118952bb69528c5e7042b2913553d7"
   },
   "source": [
    "# Check the Chain\n",
    "Here we can check the chain on the other nodes to ensure that it was updated from the new activity"
   ]
  },
  {
   "cell_type": "code",
   "execution_count": 11,
   "metadata": {},
   "outputs": [
    {
     "name": "stdout",
     "output_type": "stream",
     "text": [
      "{\r\n",
      "  \"index\": 2, \r\n",
      "  \"message\": \"New Block Forged\", \r\n",
      "  \"previous_hash\": \"60fe6e582c9c80cfe570eba99eca6b821b0c77929b3f46bc18b093de6684f861\", \r\n",
      "  \"proof\": 35293, \r\n",
      "  \"transactions\": [\r\n",
      "    {\r\n",
      "      \"amount\": 1, \r\n",
      "      \"recipient\": \"e993927e7cd342f5a05d70493ccbe0ef5001\", \r\n",
      "      \"sender\": \"0\"\r\n",
      "    }\r\n",
      "  ]\r\n",
      "}\r\n",
      "{\r\n",
      "  \"chain\": [\r\n",
      "    {\r\n",
      "      \"index\": 1, \r\n",
      "      \"previous_hash\": 1, \r\n",
      "      \"proof\": 100, \r\n",
      "      \"timestamp\": 1507824951.7695177, \r\n",
      "      \"transactions\": []\r\n",
      "    }, \r\n",
      "    {\r\n",
      "      \"index\": 2, \r\n",
      "      \"previous_hash\": \"47f8658295d76149bc7447466eda3e4c26a49d5b8309629da1cf89aedb0c42b0\", \r\n",
      "      \"proof\": 35293, \r\n",
      "      \"timestamp\": 1507824956.6968665, \r\n",
      "      \"transactions\": [\r\n",
      "        {\r\n",
      "          \"amount\": 5, \r\n",
      "          \"recipient\": \"someone-other-address\", \r\n",
      "          \"sender\": \"d4ee26eee15148ee92c6cd394edd974e\"\r\n",
      "        }, \r\n",
      "        {\r\n",
      "          \"amount\": 1, \r\n",
      "          \"recipient\": \"11120ceb2131427f99dda3fc2623ae9b5000\", \r\n",
      "          \"sender\": \"0\"\r\n",
      "        }\r\n",
      "      ]\r\n",
      "    }\r\n",
      "  ], \r\n",
      "  \"message\": \"Our chain is authoritative\"\r\n",
      "}\r\n",
      "{\r\n",
      "  \"chain\": [\r\n",
      "    {\r\n",
      "      \"index\": 1, \r\n",
      "      \"previous_hash\": 1, \r\n",
      "      \"proof\": 100, \r\n",
      "      \"timestamp\": 1507824951.7689593, \r\n",
      "      \"transactions\": []\r\n",
      "    }, \r\n",
      "    {\r\n",
      "      \"index\": 2, \r\n",
      "      \"previous_hash\": \"60fe6e582c9c80cfe570eba99eca6b821b0c77929b3f46bc18b093de6684f861\", \r\n",
      "      \"proof\": 35293, \r\n",
      "      \"timestamp\": 1507824957.4151168, \r\n",
      "      \"transactions\": [\r\n",
      "        {\r\n",
      "          \"amount\": 1, \r\n",
      "          \"recipient\": \"e993927e7cd342f5a05d70493ccbe0ef5001\", \r\n",
      "          \"sender\": \"0\"\r\n",
      "        }\r\n",
      "      ]\r\n",
      "    }\r\n",
      "  ], \r\n",
      "  \"message\": \"Our chain is authoritative\"\r\n",
      "}\r\n",
      "{\r\n",
      "  \"message\": \"Our chain was replaced\", \r\n",
      "  \"new_chain\": [\r\n",
      "    {\r\n",
      "      \"index\": 1, \r\n",
      "      \"previous_hash\": 1, \r\n",
      "      \"proof\": 100, \r\n",
      "      \"timestamp\": 1507824951.7689593, \r\n",
      "      \"transactions\": []\r\n",
      "    }, \r\n",
      "    {\r\n",
      "      \"index\": 2, \r\n",
      "      \"previous_hash\": \"60fe6e582c9c80cfe570eba99eca6b821b0c77929b3f46bc18b093de6684f861\", \r\n",
      "      \"proof\": 35293, \r\n",
      "      \"timestamp\": 1507824957.4151168, \r\n",
      "      \"transactions\": [\r\n",
      "        {\r\n",
      "          \"amount\": 1, \r\n",
      "          \"recipient\": \"e993927e7cd342f5a05d70493ccbe0ef5001\", \r\n",
      "          \"sender\": \"0\"\r\n",
      "        }\r\n",
      "      ]\r\n",
      "    }\r\n",
      "  ]\r\n",
      "}\r\n"
     ]
    }
   ],
   "source": [
    "!curl http://localhost:5001/mine\n",
    "!curl http://localhost:5000/nodes/resolve\n",
    "!curl http://localhost:5001/nodes/resolve\n",
    "!curl http://localhost:5002/nodes/resolve"
   ]
  },
  {
   "cell_type": "code",
   "execution_count": 12,
   "metadata": {
    "_cell_guid": "47e12741-0771-45af-919e-fc072f58a337",
    "_uuid": "c410e1ef0ee5210f270646beea3f146eb288bd13"
   },
   "outputs": [
    {
     "name": "stdout",
     "output_type": "stream",
     "text": [
      "{\r\n",
      "  \"chain\": [\r\n",
      "    {\r\n",
      "      \"index\": 1, \r\n",
      "      \"previous_hash\": 1, \r\n",
      "      \"proof\": 100, \r\n",
      "      \"timestamp\": 1507824951.7689593, \r\n",
      "      \"transactions\": []\r\n",
      "    }, \r\n",
      "    {\r\n",
      "      \"index\": 2, \r\n",
      "      \"previous_hash\": \"60fe6e582c9c80cfe570eba99eca6b821b0c77929b3f46bc18b093de6684f861\", \r\n",
      "      \"proof\": 35293, \r\n",
      "      \"timestamp\": 1507824957.4151168, \r\n",
      "      \"transactions\": [\r\n",
      "        {\r\n",
      "          \"amount\": 1, \r\n",
      "          \"recipient\": \"e993927e7cd342f5a05d70493ccbe0ef5001\", \r\n",
      "          \"sender\": \"0\"\r\n",
      "        }\r\n",
      "      ]\r\n",
      "    }\r\n",
      "  ], \r\n",
      "  \"length\": 2\r\n",
      "}\r\n"
     ]
    }
   ],
   "source": [
    "!curl http://localhost:5001/chain"
   ]
  },
  {
   "cell_type": "code",
   "execution_count": 13,
   "metadata": {},
   "outputs": [
    {
     "name": "stdout",
     "output_type": "stream",
     "text": [
      "{\r\n",
      "  \"index\": 3, \r\n",
      "  \"message\": \"New Block Forged\", \r\n",
      "  \"previous_hash\": \"8f7eb225042b7cdb060a17e362a8a6ac892d11fe1e8331bf0336275f1c066555\", \r\n",
      "  \"proof\": 35089, \r\n",
      "  \"transactions\": [\r\n",
      "    {\r\n",
      "      \"amount\": 1, \r\n",
      "      \"recipient\": \"6066e6f7d27c49129330b4af118a73725002\", \r\n",
      "      \"sender\": \"0\"\r\n",
      "    }\r\n",
      "  ]\r\n",
      "}\r\n",
      "{\r\n",
      "  \"message\": \"Our chain was replaced\", \r\n",
      "  \"new_chain\": [\r\n",
      "    {\r\n",
      "      \"index\": 1, \r\n",
      "      \"previous_hash\": 1, \r\n",
      "      \"proof\": 100, \r\n",
      "      \"timestamp\": 1507824951.7689593, \r\n",
      "      \"transactions\": []\r\n",
      "    }, \r\n",
      "    {\r\n",
      "      \"index\": 2, \r\n",
      "      \"previous_hash\": \"60fe6e582c9c80cfe570eba99eca6b821b0c77929b3f46bc18b093de6684f861\", \r\n",
      "      \"proof\": 35293, \r\n",
      "      \"timestamp\": 1507824957.4151168, \r\n",
      "      \"transactions\": [\r\n",
      "        {\r\n",
      "          \"amount\": 1, \r\n",
      "          \"recipient\": \"e993927e7cd342f5a05d70493ccbe0ef5001\", \r\n",
      "          \"sender\": \"0\"\r\n",
      "        }\r\n",
      "      ]\r\n",
      "    }, \r\n",
      "    {\r\n",
      "      \"index\": 3, \r\n",
      "      \"previous_hash\": \"8f7eb225042b7cdb060a17e362a8a6ac892d11fe1e8331bf0336275f1c066555\", \r\n",
      "      \"proof\": 35089, \r\n",
      "      \"timestamp\": 1507824959.2312186, \r\n",
      "      \"transactions\": [\r\n",
      "        {\r\n",
      "          \"amount\": 1, \r\n",
      "          \"recipient\": \"6066e6f7d27c49129330b4af118a73725002\", \r\n",
      "          \"sender\": \"0\"\r\n",
      "        }\r\n",
      "      ]\r\n",
      "    }\r\n",
      "  ]\r\n",
      "}\r\n",
      "{\r\n",
      "  \"message\": \"Our chain was replaced\", \r\n",
      "  \"new_chain\": [\r\n",
      "    {\r\n",
      "      \"index\": 1, \r\n",
      "      \"previous_hash\": 1, \r\n",
      "      \"proof\": 100, \r\n",
      "      \"timestamp\": 1507824951.7689593, \r\n",
      "      \"transactions\": []\r\n",
      "    }, \r\n",
      "    {\r\n",
      "      \"index\": 2, \r\n",
      "      \"previous_hash\": \"60fe6e582c9c80cfe570eba99eca6b821b0c77929b3f46bc18b093de6684f861\", \r\n",
      "      \"proof\": 35293, \r\n",
      "      \"timestamp\": 1507824957.4151168, \r\n",
      "      \"transactions\": [\r\n",
      "        {\r\n",
      "          \"amount\": 1, \r\n",
      "          \"recipient\": \"e993927e7cd342f5a05d70493ccbe0ef5001\", \r\n",
      "          \"sender\": \"0\"\r\n",
      "        }\r\n",
      "      ]\r\n",
      "    }, \r\n",
      "    {\r\n",
      "      \"index\": 3, \r\n",
      "      \"previous_hash\": \"8f7eb225042b7cdb060a17e362a8a6ac892d11fe1e8331bf0336275f1c066555\", \r\n",
      "      \"proof\": 35089, \r\n",
      "      \"timestamp\": 1507824959.2312186, \r\n",
      "      \"transactions\": [\r\n",
      "        {\r\n",
      "          \"amount\": 1, \r\n",
      "          \"recipient\": \"6066e6f7d27c49129330b4af118a73725002\", \r\n",
      "          \"sender\": \"0\"\r\n",
      "        }\r\n",
      "      ]\r\n",
      "    }\r\n",
      "  ]\r\n",
      "}\r\n",
      "{\r\n",
      "  \"chain\": [\r\n",
      "    {\r\n",
      "      \"index\": 1, \r\n",
      "      \"previous_hash\": 1, \r\n",
      "      \"proof\": 100, \r\n",
      "      \"timestamp\": 1507824951.7689593, \r\n",
      "      \"transactions\": []\r\n",
      "    }, \r\n",
      "    {\r\n",
      "      \"index\": 2, \r\n",
      "      \"previous_hash\": \"60fe6e582c9c80cfe570eba99eca6b821b0c77929b3f46bc18b093de6684f861\", \r\n",
      "      \"proof\": 35293, \r\n",
      "      \"timestamp\": 1507824957.4151168, \r\n",
      "      \"transactions\": [\r\n",
      "        {\r\n",
      "          \"amount\": 1, \r\n",
      "          \"recipient\": \"e993927e7cd342f5a05d70493ccbe0ef5001\", \r\n",
      "          \"sender\": \"0\"\r\n",
      "        }\r\n",
      "      ]\r\n",
      "    }, \r\n",
      "    {\r\n",
      "      \"index\": 3, \r\n",
      "      \"previous_hash\": \"8f7eb225042b7cdb060a17e362a8a6ac892d11fe1e8331bf0336275f1c066555\", \r\n",
      "      \"proof\": 35089, \r\n",
      "      \"timestamp\": 1507824959.2312186, \r\n",
      "      \"transactions\": [\r\n",
      "        {\r\n",
      "          \"amount\": 1, \r\n",
      "          \"recipient\": \"6066e6f7d27c49129330b4af118a73725002\", \r\n",
      "          \"sender\": \"0\"\r\n",
      "        }\r\n",
      "      ]\r\n",
      "    }\r\n",
      "  ], \r\n",
      "  \"message\": \"Our chain is authoritative\"\r\n",
      "}\r\n"
     ]
    }
   ],
   "source": [
    "!curl http://localhost:5002/mine\n",
    "!curl http://localhost:5000/nodes/resolve\n",
    "!curl http://localhost:5001/nodes/resolve\n",
    "!curl http://localhost:5002/nodes/resolve"
   ]
  },
  {
   "cell_type": "code",
   "execution_count": 14,
   "metadata": {
    "_cell_guid": "71633156-7670-4904-8256-cabc7e41d103",
    "_uuid": "e97a92b8796aac6a35a2ac10ab8780f4dfdb285d"
   },
   "outputs": [
    {
     "name": "stdout",
     "output_type": "stream",
     "text": [
      "{\r\n",
      "  \"chain\": [\r\n",
      "    {\r\n",
      "      \"index\": 1, \r\n",
      "      \"previous_hash\": 1, \r\n",
      "      \"proof\": 100, \r\n",
      "      \"timestamp\": 1507824951.7689593, \r\n",
      "      \"transactions\": []\r\n",
      "    }, \r\n",
      "    {\r\n",
      "      \"index\": 2, \r\n",
      "      \"previous_hash\": \"60fe6e582c9c80cfe570eba99eca6b821b0c77929b3f46bc18b093de6684f861\", \r\n",
      "      \"proof\": 35293, \r\n",
      "      \"timestamp\": 1507824957.4151168, \r\n",
      "      \"transactions\": [\r\n",
      "        {\r\n",
      "          \"amount\": 1, \r\n",
      "          \"recipient\": \"e993927e7cd342f5a05d70493ccbe0ef5001\", \r\n",
      "          \"sender\": \"0\"\r\n",
      "        }\r\n",
      "      ]\r\n",
      "    }, \r\n",
      "    {\r\n",
      "      \"index\": 3, \r\n",
      "      \"previous_hash\": \"8f7eb225042b7cdb060a17e362a8a6ac892d11fe1e8331bf0336275f1c066555\", \r\n",
      "      \"proof\": 35089, \r\n",
      "      \"timestamp\": 1507824959.2312186, \r\n",
      "      \"transactions\": [\r\n",
      "        {\r\n",
      "          \"amount\": 1, \r\n",
      "          \"recipient\": \"6066e6f7d27c49129330b4af118a73725002\", \r\n",
      "          \"sender\": \"0\"\r\n",
      "        }\r\n",
      "      ]\r\n",
      "    }\r\n",
      "  ], \r\n",
      "  \"length\": 3\r\n",
      "}\r\n"
     ]
    }
   ],
   "source": [
    "!curl http://localhost:5002/chain"
   ]
  },
  {
   "cell_type": "markdown",
   "metadata": {
    "_cell_guid": "b8200a33-c09d-43ca-810a-0cf9f9542137",
    "_uuid": "b54b78ca00b46a4b10d03b166fe9f03f904730ca"
   },
   "source": [
    "## Clean-up \n",
    "Here we clean everything up so we aren't left with dangling processes"
   ]
  },
  {
   "cell_type": "code",
   "execution_count": 15,
   "metadata": {
    "_cell_guid": "aaeb621a-32fb-4aa3-be29-7960e7aad03d",
    "_uuid": "9601508254776f835be72c9e1c70dcf2b0ffabdd",
    "collapsed": true
   },
   "outputs": [],
   "source": [
    "import signal\n",
    "for cpid in out_pids:\n",
    "    #os.waitpid(cpid, 0) # to wait for a peaceful exit\n",
    "    os.kill(cpid, signal.SIGTERM)"
   ]
  },
  {
   "cell_type": "code",
   "execution_count": 16,
   "metadata": {
    "_cell_guid": "eabf96dd-99d8-4915-9ea1-ce70cacf29fb",
    "_uuid": "beea4d9c54cd7cb813330a9277ccc16c62002904",
    "collapsed": true
   },
   "outputs": [],
   "source": []
  },
  {
   "cell_type": "code",
   "execution_count": 16,
   "metadata": {
    "_cell_guid": "d866dd31-c656-49d0-9de1-584fb57531eb",
    "_uuid": "391edace964b0d440c43f66f24cefba7e42910eb",
    "collapsed": true
   },
   "outputs": [],
   "source": []
  }
 ],
 "metadata": {
  "kernelspec": {
   "display_name": "Python 3",
   "language": "python",
   "name": "python3"
  },
  "language_info": {
   "codemirror_mode": {
    "name": "ipython",
    "version": 3
   },
   "file_extension": ".py",
   "mimetype": "text/x-python",
   "name": "python",
   "nbconvert_exporter": "python",
   "pygments_lexer": "ipython3",
   "version": "3.6.3"
  }
 },
 "nbformat": 4,
 "nbformat_minor": 1
}
